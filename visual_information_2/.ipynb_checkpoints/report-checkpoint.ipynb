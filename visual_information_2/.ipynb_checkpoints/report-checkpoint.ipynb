{
 "cells": [
  {
   "cell_type": "markdown",
   "metadata": {},
   "source": [
    "# 錯視の実験"
   ]
  },
  {
   "cell_type": "markdown",
   "metadata": {},
   "source": [
    "## 使用した錯視"
   ]
  },
  {
   "cell_type": "markdown",
   "metadata": {},
   "source": [
    "[NTT イリュージョンフォーラム](http://www.kecl.ntt.co.jp/IllusionForum/)で公開されている，[形の恒常性（錯視，形の錯視）](http://www.kecl.ntt.co.jp/IllusionForum/v/sizeConstancy/ja/index.html)を参考に，錯視を作成した．\n",
    "<br>\n",
    "これは，アメリカの心理学者であるシェパードが発見したもので，三次元的奥行き（遠近線など）がある平面上の絵の中に，同じ大きさの図を2つ配置すると，画面上側に配置された図の方が小さく見える錯視である．\n",
    "<br>\n",
    "この錯視は[ポンゾ錯視](http://www.kecl.ntt.co.jp/IllusionForum/v/ponzo/ja/index.html)と関係が深く，大きさの判断が奥行きに依存していることを示すものである．"
   ]
  },
  {
   "cell_type": "markdown",
   "metadata": {},
   "source": [
    "## 実験手続き"
   ]
  },
  {
   "cell_type": "markdown",
   "metadata": {},
   "source": [
    "### 実験準備\n",
    "1. 奥行きを感じるようにオブジェクトなどが配置された二次元上の平面図（今回はPCの画面）上に，赤い円を2つ配置する．画面上側の円を**「基準円」**と，画面下側の円を**「刺激円」**と呼ぶ．基準円の半径は100piexl，刺激円の半径は100〜160pixel（7段階，10pixel刻み）である．\n",
    "2. 実験として，7条件$\\times$20試行の合計140試行を行う．条件のカウンタバランスをとるため，7段階の刺激円の提示順を乱数を用いてランダマイズする．\n",
    "3. 2の作業を20回繰り返し，統制されたランダム順を作成する．\n",
    "\n",
    "### 実験手続き\n",
    "1. 実験参加者は，実験プログラムを起動する．\n",
    "2. 実験参加者は画面中央のクロスマークを見ながら，右側の円（刺激円）が左側の円（基準円）より画面上で大きく見えるかどうか，2択で回答する．この時，刺激円の半径は実験準備で作成されたランダム順に応じて変更，提示される．\n",
    "3. 2を全試行（140回）繰り返す．\n",
    "\n",
    "### 実験システム画面\n",
    "![実験画面](capture.png )"
   ]
  },
  {
   "cell_type": "markdown",
   "metadata": {},
   "source": [
    "## 実験結果"
   ]
  },
  {
   "cell_type": "markdown",
   "metadata": {},
   "source": [
    "### 実験結果（集計）\n",
    "|**基準円と刺激円の半径の差（pixel）**|0|10|20|30|40|50|60|\n",
    "|---|---|---|---|---|---|---|---|\n",
    "|**刺激円が大きいと答えた割合**|0.00|0.00|0.25|0.80|1.00|1.00|1.00|\n",
    "\n",
    "### 実験結果（図）\n",
    "![実験結果](rslt.png)\n",
    "\n",
    "### 実験結果（まとめ）\n",
    "* 実験結果に対してカーブフィッティングを行い，実験で利用しなかった基準円と刺激円の半径の差分についても，おおよその半径差分がわかるようにした．\n",
    "* その結果，刺激円の半径が基準円の約1.244倍になる時に，基準円と刺激円の大きさが同じに見えると考えられる．\n",
    "* つまり，基準円は本来の大きさと比べて約80%の大きさで見えていることがわかる．"
   ]
  },
  {
   "cell_type": "markdown",
   "metadata": {},
   "source": [
    "## 実験データ\n",
    "### 添付ファイル\n",
    "* 実験プログラム：visual_information_2.pde\n",
    "* グラフ描画，カーブフィッティングプログラム：graph.py\n",
    "* 実験結果：rslt.csv\n",
    "\n",
    "### [Github](https://github.com/YK-Orfeluna/visual_information/tree/master/visual_information_2)\n",
    "* [実験プログラム](visual_information_2.pde)\n",
    "* [グラフ描画，カーブフィッティングプログラム](graph.py)\n",
    "* [実験結果](rslt.csv)\n",
    "* [結果グラフ](rslt.png)\n",
    "* [レポート](report.ipynb)\n",
    "\n",
    "\n"
   ]
  }
 ],
 "metadata": {
  "kernelspec": {
   "display_name": "Python 3",
   "language": "python",
   "name": "python3"
  },
  "language_info": {
   "codemirror_mode": {
    "name": "ipython",
    "version": 3
   },
   "file_extension": ".py",
   "mimetype": "text/x-python",
   "name": "python",
   "nbconvert_exporter": "python",
   "pygments_lexer": "ipython3",
   "version": "3.5.3"
  }
 },
 "nbformat": 4,
 "nbformat_minor": 2
}
